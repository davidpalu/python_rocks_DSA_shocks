{
 "cells": [
  {
   "cell_type": "code",
   "execution_count": 1,
   "id": "cbf634ca-42c4-4d1c-a67f-8375155883e7",
   "metadata": {},
   "outputs": [
    {
     "name": "stdout",
     "output_type": "stream",
     "text": [
      "i am trying to create an python dsa community\n"
     ]
    }
   ],
   "source": [
    "print(\"i am trying to create an python dsa community\")"
   ]
  },
  {
   "cell_type": "code",
   "execution_count": null,
   "id": "141eb385-d5f0-4236-ac0b-8bcfb1e11429",
   "metadata": {},
   "outputs": [],
   "source": []
  }
 ],
 "metadata": {
  "kernelspec": {
   "display_name": "Python 3 (ipykernel)",
   "language": "python",
   "name": "python3"
  },
  "language_info": {
   "codemirror_mode": {
    "name": "ipython",
    "version": 3
   },
   "file_extension": ".py",
   "mimetype": "text/x-python",
   "name": "python",
   "nbconvert_exporter": "python",
   "pygments_lexer": "ipython3",
   "version": "3.12.4"
  }
 },
 "nbformat": 4,
 "nbformat_minor": 5
}
